{
 "cells": [
  {
   "cell_type": "markdown",
   "metadata": {},
   "source": [
    "<div class=\"alert alert-block alert-info\" style=\"margin-top: 20px\">\n",
    "    <a href=\"https://cocl.us/PY0101EN_edx_add_top\">\n",
    "         <img src=\"https://s3-api.us-geo.objectstorage.softlayer.net/cf-courses-data/CognitiveClass/PY0101EN/Ad/TopAd.png\" width=\"750\" align=\"center\">\n",
    "    </a>\n",
    "</div>"
   ]
  },
  {
   "cell_type": "markdown",
   "metadata": {},
   "source": [
    "<a href=\"https://cognitiveclass.ai/\">\n",
    "    <img src=\"https://s3-api.us-geo.objectstorage.softlayer.net/cf-courses-data/CognitiveClass/PY0101EN/Ad/CCLog.png\" width=\"200\" align=\"center\">\n",
    "</a>"
   ]
  },
  {
   "cell_type": "markdown",
   "metadata": {},
   "source": [
    "<h1>Leer Archivos en Python</h1>"
   ]
  },
  {
   "cell_type": "markdown",
   "metadata": {},
   "source": [
    "<p><strong>¡Bienvenido!</strong> En este cuaderno aprenderás acerca de la lectura de archivos de texto en el Lenguaje de Programación Python. Al fina del laboratorio sabrás como leer archivo de texto.</p>"
   ]
  },
  {
   "cell_type": "markdown",
   "metadata": {},
   "source": [
    "<h2>Tabla de Contenido</h2>\n",
    "<div class=\"alert alert-block alert-info\" style=\"margin-top: 20px\">\n",
    "    <ul>\n",
    "        <li><a href=\"download\">Descarga de Datos</a></li>\n",
    "        <li><a href=\"read\">Lectura de Archivos de Texto</a></li>\n",
    "        <li><a href=\"better\">Una Mejor Forma de Abrir un Archivo</a></li>\n",
    "    </ul>\n",
    "    <p>\n",
    "        Tiempo Estimado: <strong>40 min</strong>\n",
    "    </p>\n",
    "</div>\n",
    "\n",
    "<hr>"
   ]
  },
  {
   "cell_type": "markdown",
   "metadata": {},
   "source": [
    "<h2 id=\"download\">Descarga de Datos</h2>"
   ]
  },
  {
   "cell_type": "code",
   "execution_count": 1,
   "metadata": {},
   "outputs": [
    {
     "name": "stdout",
     "output_type": "stream",
     "text": [
      "GNU Wget 1.20.3, a non-interactive network retriever.\n",
      "Usage: wget [OPTION]... [URL]...\n",
      "\n",
      "Mandatory arguments to long options are mandatory for short options too.\n",
      "\n",
      "Startup:\n",
      "  -V,  --version                   display the version of Wget and exit\n",
      "  -h,  --help                      print this help\n",
      "  -b,  --background                go to background after startup\n",
      "  -e,  --execute=COMMAND           execute a `.wgetrc'-style command\n",
      "\n",
      "Logging and input file:\n",
      "  -o,  --output-file=FILE          log messages to FILE\n",
      "  -a,  --append-output=FILE        append messages to FILE\n",
      "  -d,  --debug                     print lots of debugging information\n",
      "  -q,  --quiet                     quiet (no output)\n",
      "  -v,  --verbose                   be verbose (this is the default)\n",
      "  -nv, --no-verbose                turn off verboseness, without being quiet\n",
      "       --report-speed=TYPE         output bandwidth as TYPE.  TYPE can be bits\n",
      "  -i,  --input-file=FILE           download URLs found in local or external FILE\n",
      "       --input-metalink=FILE       download files covered in local Metalink FILE\n",
      "  -F,  --force-html                treat input file as HTML\n",
      "  -B,  --base=URL                  resolves HTML input-file links (-i -F)\n",
      "                                     relative to URL\n",
      "       --config=FILE               specify config file to use\n",
      "       --no-config                 do not read any config file\n",
      "       --rejected-log=FILE         log reasons for URL rejection to FILE\n",
      "\n",
      "Download:\n",
      "  -t,  --tries=NUMBER              set number of retries to NUMBER (0 unlimits)\n",
      "       --retry-connrefused         retry even if connection is refused\n",
      "       --retry-on-http-error=ERRORS    comma-separated list of HTTP errors to retry\n",
      "  -O,  --output-document=FILE      write documents to FILE\n",
      "  -nc, --no-clobber                skip downloads that would download to\n",
      "                                     existing files (overwriting them)\n",
      "       --no-netrc                  don't try to obtain credentials from .netrc\n",
      "  -c,  --continue                  resume getting a partially-downloaded file\n",
      "       --start-pos=OFFSET          start downloading from zero-based position OFFSET\n",
      "       --progress=TYPE             select progress gauge type\n",
      "       --show-progress             display the progress bar in any verbosity mode\n",
      "  -N,  --timestamping              don't re-retrieve files unless newer than\n",
      "                                     local\n",
      "       --no-if-modified-since      don't use conditional if-modified-since get\n",
      "                                     requests in timestamping mode\n",
      "       --no-use-server-timestamps  don't set the local file's timestamp by\n",
      "                                     the one on the server\n",
      "  -S,  --server-response           print server response\n",
      "       --spider                    don't download anything\n",
      "  -T,  --timeout=SECONDS           set all timeout values to SECONDS\n",
      "       --dns-timeout=SECS          set the DNS lookup timeout to SECS\n",
      "       --connect-timeout=SECS      set the connect timeout to SECS\n",
      "       --read-timeout=SECS         set the read timeout to SECS\n",
      "  -w,  --wait=SECONDS              wait SECONDS between retrievals\n",
      "       --waitretry=SECONDS         wait 1..SECONDS between retries of a retrieval\n",
      "       --random-wait               wait from 0.5*WAIT...1.5*WAIT secs between retrievals\n",
      "       --no-proxy                  explicitly turn off proxy\n",
      "  -Q,  --quota=NUMBER              set retrieval quota to NUMBER\n",
      "       --bind-address=ADDRESS      bind to ADDRESS (hostname or IP) on local host\n",
      "       --limit-rate=RATE           limit download rate to RATE\n",
      "       --no-dns-cache              disable caching DNS lookups\n",
      "       --restrict-file-names=OS    restrict chars in file names to ones OS allows\n",
      "       --ignore-case               ignore case when matching files/directories\n",
      "  -4,  --inet4-only                connect only to IPv4 addresses\n",
      "  -6,  --inet6-only                connect only to IPv6 addresses\n",
      "       --prefer-family=FAMILY      connect first to addresses of specified family,\n",
      "                                     one of IPv6, IPv4, or none\n",
      "       --user=USER                 set both ftp and http user to USER\n",
      "       --password=PASS             set both ftp and http password to PASS\n",
      "       --ask-password              prompt for passwords\n",
      "       --use-askpass=COMMAND       specify credential handler for requesting \n",
      "                                     username and password.  If no COMMAND is \n",
      "                                     specified the WGET_ASKPASS or the SSH_ASKPASS \n",
      "                                     environment variable is used.\n",
      "       --no-iri                    turn off IRI support\n",
      "       --local-encoding=ENC        use ENC as the local encoding for IRIs\n",
      "       --remote-encoding=ENC       use ENC as the default remote encoding\n",
      "       --unlink                    remove file before clobber\n",
      "       --keep-badhash              keep files with checksum mismatch (append .badhash)\n",
      "       --metalink-index=NUMBER     Metalink application/metalink4+xml metaurl ordinal NUMBER\n",
      "       --metalink-over-http        use Metalink metadata from HTTP response headers\n",
      "       --preferred-location        preferred location for Metalink resources\n",
      "\n",
      "Directories:\n",
      "  -nd, --no-directories            don't create directories\n",
      "  -x,  --force-directories         force creation of directories\n",
      "  -nH, --no-host-directories       don't create host directories\n",
      "       --protocol-directories      use protocol name in directories\n",
      "  -P,  --directory-prefix=PREFIX   save files to PREFIX/..\n",
      "       --cut-dirs=NUMBER           ignore NUMBER remote directory components\n",
      "\n",
      "HTTP options:\n",
      "       --http-user=USER            set http user to USER\n",
      "       --http-password=PASS        set http password to PASS\n",
      "       --no-cache                  disallow server-cached data\n",
      "       --default-page=NAME         change the default page name (normally\n",
      "                                     this is 'index.html'.)\n",
      "  -E,  --adjust-extension          save HTML/CSS documents with proper extensions\n",
      "       --ignore-length             ignore 'Content-Length' header field\n",
      "       --header=STRING             insert STRING among the headers\n",
      "       --compression=TYPE          choose compression, one of auto, gzip and none. (default: none)\n",
      "       --max-redirect              maximum redirections allowed per page\n",
      "       --proxy-user=USER           set USER as proxy username\n",
      "       --proxy-password=PASS       set PASS as proxy password\n",
      "       --referer=URL               include 'Referer: URL' header in HTTP request\n",
      "       --save-headers              save the HTTP headers to file\n",
      "  -U,  --user-agent=AGENT          identify as AGENT instead of Wget/VERSION\n",
      "       --no-http-keep-alive        disable HTTP keep-alive (persistent connections)\n",
      "       --no-cookies                don't use cookies\n",
      "       --load-cookies=FILE         load cookies from FILE before session\n",
      "       --save-cookies=FILE         save cookies to FILE after session\n",
      "       --keep-session-cookies      load and save session (non-permanent) cookies\n",
      "       --post-data=STRING          use the POST method; send STRING as the data\n",
      "       --post-file=FILE            use the POST method; send contents of FILE\n",
      "       --method=HTTPMethod         use method \"HTTPMethod\" in the request\n",
      "       --body-data=STRING          send STRING as data. --method MUST be set\n",
      "       --body-file=FILE            send contents of FILE. --method MUST be set\n",
      "       --content-disposition       honor the Content-Disposition header when\n",
      "                                     choosing local file names (EXPERIMENTAL)\n",
      "       --content-on-error          output the received content on server errors\n",
      "       --auth-no-challenge         send Basic HTTP authentication information\n",
      "                                     without first waiting for the server's\n",
      "                                     challenge\n",
      "\n",
      "HTTPS (SSL/TLS) options:\n",
      "       --secure-protocol=PR        choose secure protocol, one of auto, SSLv2,\n",
      "                                     SSLv3, TLSv1, TLSv1_1, TLSv1_2 and PFS\n",
      "       --https-only                only follow secure HTTPS links\n",
      "       --no-check-certificate      don't validate the server's certificate\n",
      "       --certificate=FILE          client certificate file\n",
      "       --certificate-type=TYPE     client certificate type, PEM or DER\n",
      "       --private-key=FILE          private key file\n",
      "       --private-key-type=TYPE     private key type, PEM or DER\n",
      "       --ca-certificate=FILE       file with the bundle of CAs\n",
      "       --ca-directory=DIR          directory where hash list of CAs is stored\n",
      "       --crl-file=FILE             file with bundle of CRLs\n",
      "       --pinnedpubkey=FILE/HASHES  Public key (PEM/DER) file, or any number\n",
      "                                   of base64 encoded sha256 hashes preceded by\n",
      "                                   'sha256//' and separated by ';', to verify\n",
      "                                   peer against\n",
      "       --random-file=FILE          file with random data for seeding the SSL PRNG\n",
      "\n",
      "       --ciphers=STR           Set the priority string (GnuTLS) or cipher list string (OpenSSL) directly.\n",
      "                                   Use with care. This option overrides --secure-protocol.\n",
      "                                   The format and syntax of this string depend on the specific SSL/TLS engine.\n",
      "HSTS options:\n",
      "       --no-hsts                   disable HSTS\n",
      "       --hsts-file                 path of HSTS database (will override default)\n",
      "\n",
      "FTP options:\n",
      "       --ftp-user=USER             set ftp user to USER\n",
      "       --ftp-password=PASS         set ftp password to PASS\n",
      "       --no-remove-listing         don't remove '.listing' files\n",
      "       --no-glob                   turn off FTP file name globbing\n",
      "       --no-passive-ftp            disable the \"passive\" transfer mode\n",
      "       --preserve-permissions      preserve remote file permissions\n",
      "       --retr-symlinks             when recursing, get linked-to files (not dir)\n",
      "\n",
      "FTPS options:\n",
      "       --ftps-implicit                 use implicit FTPS (default port is 990)\n",
      "       --ftps-resume-ssl               resume the SSL/TLS session started in the control connection when\n",
      "                                         opening a data connection\n",
      "       --ftps-clear-data-connection    cipher the control channel only; all the data will be in plaintext\n",
      "       --ftps-fallback-to-ftp          fall back to FTP if FTPS is not supported in the target server"
     ]
    }
   ],
   "source": [
    "# descargar e instalar wget manualmente en WIN10 | usar \"wget -h\" para verificar\n",
    "!wget -h"
   ]
  },
  {
   "cell_type": "code",
   "execution_count": 2,
   "metadata": {
    "scrolled": true
   },
   "outputs": [
    {
     "name": "stderr",
     "output_type": "stream",
     "text": [
      "--2020-12-02 12:46:37--  https://s3-api.us-geo.objectstorage.softlayer.net/cf-courses-data/CognitiveClass/PY0101EN/labs/example1.txt\n",
      "Resolving s3-api.us-geo.objectstorage.softlayer.net (s3-api.us-geo.objectstorage.softlayer.net)... 67.228.254.196\n",
      "Connecting to s3-api.us-geo.objectstorage.softlayer.net (s3-api.us-geo.objectstorage.softlayer.net)|67.228.254.196|:443... connected.\n",
      "HTTP request sent, awaiting response... 200 OK\n",
      "Length: 45 [text/plain]\n",
      "Saving to: 'resources/data/Example1.txt'\n",
      "\n",
      "     0K                                                       100% 31,8K=0,001s\n",
      "\n",
      "2020-12-02 12:46:38 (31,8 KB/s) - 'resources/data/Example1.txt' saved [45/45]\n",
      "\n"
     ]
    }
   ],
   "source": [
    "# Descarga de Archivo de Ejemplo\n",
    "# crear carpeta dentro del directorio e trabajo: resources/data/Example1.txt\n",
    "!wget -O resources/data/Example1.txt https://s3-api.us-geo.objectstorage.softlayer.net/cf-courses-data/CognitiveClass/PY0101EN/labs/example1.txt\n"
   ]
  },
  {
   "cell_type": "markdown",
   "metadata": {},
   "source": [
    "<hr>"
   ]
  },
  {
   "cell_type": "markdown",
   "metadata": {},
   "source": [
    "<h2 id=\"read\">Lectura de Archivos de Texto</h2>"
   ]
  },
  {
   "cell_type": "markdown",
   "metadata": {},
   "source": [
    "Una forma de leer o escribir un archivo en Python es usando la función <code>open</code>. La función <code>open</code> proporciona un  <b>objeto File</b> que contiene los métodos y atributo necesarios para leer, guardar y manipular el archivo. En este cuaderno, solo se cubrirá los archivos <b>.txt</b>. El primer parámetro necesario es la ruta y el nombre del archivo. Se muestra un ejemplo a continuación:"
   ]
  },
  {
   "cell_type": "markdown",
   "metadata": {},
   "source": [
    "<img src=\"https://s3-api.us-geo.objectstorage.softlayer.net/cf-courses-data/CognitiveClass/PY0101EN/Chapter%204/Images/ReadOpen.png\" width=\"500\" />"
   ]
  },
  {
   "cell_type": "markdown",
   "metadata": {},
   "source": [
    " El argumento “mode” (modo) es opcional siendo su valor por defecto <b>r</b>. En este cuaderno solo se cubrirá dos modos: \n",
    "<ul>\n",
    "    <li><b>r</b> Modo Lectura (Read Mode) </li>\n",
    "    <li><b>w</b> Modo Escritura (Write Mode) </li>\n",
    "</ul>"
   ]
  },
  {
   "cell_type": "markdown",
   "metadata": {},
   "source": [
    "En el siguiente ejemplo, usaremos el archivo de texto <b>Example1.txt</b>. El archivo se muestra de la siguiente manera:"
   ]
  },
  {
   "cell_type": "markdown",
   "metadata": {},
   "source": [
    "<img src=\"https://s3-api.us-geo.objectstorage.softlayer.net/cf-courses-data/CognitiveClass/PY0101EN/Chapter%204/Images/ReadFile.png\" width=\"200\" />"
   ]
  },
  {
   "cell_type": "markdown",
   "metadata": {},
   "source": [
    "Leemos el archivo:"
   ]
  },
  {
   "cell_type": "code",
   "execution_count": 3,
   "metadata": {},
   "outputs": [],
   "source": [
    "# Leer Example1.txt\n",
    "\n",
    "example1 = \"Example1.txt\"\n",
    "file1 = open(example1, \"r\")"
   ]
  },
  {
   "cell_type": "markdown",
   "metadata": {},
   "source": [
    "Podemos ver los atributos del archivo:"
   ]
  },
  {
   "cell_type": "markdown",
   "metadata": {},
   "source": [
    "El nombre del archivo: "
   ]
  },
  {
   "cell_type": "code",
   "execution_count": 38,
   "metadata": {},
   "outputs": [
    {
     "data": {
      "text/plain": [
       "'Example1.txt'"
      ]
     },
     "execution_count": 38,
     "metadata": {},
     "output_type": "execute_result"
    }
   ],
   "source": [
    "# Imprimir la ruta del archivo\n",
    "\n",
    "file1.name"
   ]
  },
  {
   "cell_type": "markdown",
   "metadata": {},
   "source": [
    "El modo de operación del archivo:"
   ]
  },
  {
   "cell_type": "code",
   "execution_count": 39,
   "metadata": {},
   "outputs": [
    {
     "data": {
      "text/plain": [
       "'r'"
      ]
     },
     "execution_count": 39,
     "metadata": {},
     "output_type": "execute_result"
    }
   ],
   "source": [
    "# El modo de operación del archivo, puede ser 'r' (lectura) o 'w' (escritura)\n",
    "\n",
    "file1.mode"
   ]
  },
  {
   "cell_type": "markdown",
   "metadata": {},
   "source": [
    "Podemos leer el archivo y asignarlo como valor a una variable:"
   ]
  },
  {
   "cell_type": "code",
   "execution_count": 40,
   "metadata": {},
   "outputs": [
    {
     "data": {
      "text/plain": [
       "'This is line 1 \\nThis is line 2\\nThis is line 3'"
      ]
     },
     "execution_count": 40,
     "metadata": {},
     "output_type": "execute_result"
    }
   ],
   "source": [
    "# Leer el archivo\n",
    "\n",
    "FileContent = file1.read()\n",
    "FileContent"
   ]
  },
  {
   "cell_type": "markdown",
   "metadata": {},
   "source": [
    "La <b>/n</b> significa que hay una nueva línea. "
   ]
  },
  {
   "cell_type": "markdown",
   "metadata": {},
   "source": [
    "Podemos imprimir el archivo:"
   ]
  },
  {
   "cell_type": "code",
   "execution_count": 41,
   "metadata": {},
   "outputs": [
    {
     "name": "stdout",
     "output_type": "stream",
     "text": [
      "This is line 1 \n",
      "This is line 2\n",
      "This is line 3\n"
     ]
    }
   ],
   "source": [
    "# Imprime el archivo con '\\n' como nueva línea \n",
    "\n",
    "print(FileContent)"
   ]
  },
  {
   "cell_type": "markdown",
   "metadata": {},
   "source": [
    "El archivo es de tipo cadena:"
   ]
  },
  {
   "cell_type": "code",
   "execution_count": 42,
   "metadata": {},
   "outputs": [
    {
     "data": {
      "text/plain": [
       "str"
      ]
     },
     "execution_count": 42,
     "metadata": {},
     "output_type": "execute_result"
    }
   ],
   "source": [
    "# Tipo del contenido del archivo\n",
    "\n",
    "type(FileContent)"
   ]
  },
  {
   "cell_type": "markdown",
   "metadata": {},
   "source": [
    "Debemos cerrar el objeto tipo archivo:"
   ]
  },
  {
   "cell_type": "code",
   "execution_count": 43,
   "metadata": {},
   "outputs": [],
   "source": [
    "# Cerrar el archivo al terminar\n",
    "\n",
    "file1.close()"
   ]
  },
  {
   "cell_type": "markdown",
   "metadata": {},
   "source": [
    "<hr>"
   ]
  },
  {
   "cell_type": "markdown",
   "metadata": {},
   "source": [
    "<h2 id=\"better\">Una Mejor Forma de Abrir un Archivo</h2>"
   ]
  },
  {
   "cell_type": "markdown",
   "metadata": {},
   "source": [
    "La declaración <code>with</code> automáticamente cierra el archivo incluso si se encuentra una excepción en la ejecución del código. El código ejecutara todo lo del bloque con sangría, después cerrara el archivo."
   ]
  },
  {
   "cell_type": "code",
   "execution_count": 44,
   "metadata": {},
   "outputs": [
    {
     "name": "stdout",
     "output_type": "stream",
     "text": [
      "This is line 1 \n",
      "This is line 2\n",
      "This is line 3\n"
     ]
    }
   ],
   "source": [
    "# Abrir un archivo utilizando with\n",
    "\n",
    "with open(example1, \"r\") as file1:\n",
    "    FileContent = file1.read()\n",
    "    print(FileContent)"
   ]
  },
  {
   "cell_type": "markdown",
   "metadata": {},
   "source": [
    "El objeto archive esta cerrado, puedes verificar esto ejecutando el próximo código:"
   ]
  },
  {
   "cell_type": "code",
   "execution_count": 45,
   "metadata": {},
   "outputs": [
    {
     "data": {
      "text/plain": [
       "True"
      ]
     },
     "execution_count": 45,
     "metadata": {},
     "output_type": "execute_result"
    }
   ],
   "source": [
    "# Verificar si el archivo esta cerrado\n",
    "\n",
    "file1.closed"
   ]
  },
  {
   "cell_type": "markdown",
   "metadata": {},
   "source": [
    "Podemos ver la información del archivo"
   ]
  },
  {
   "cell_type": "code",
   "execution_count": 46,
   "metadata": {},
   "outputs": [
    {
     "name": "stdout",
     "output_type": "stream",
     "text": [
      "This is line 1 \n",
      "This is line 2\n",
      "This is line 3\n"
     ]
    }
   ],
   "source": [
    "# Ver el contenido del archivo\n",
    "\n",
    "print(FileContent)"
   ]
  },
  {
   "cell_type": "markdown",
   "metadata": {},
   "source": [
    "La sintaxis es un poco confusa debido a que el objeto archivo esta después de la declaración <code>as</code>. Ademas no cerramos explícitamente el archivo. Por lo tanto, se resumen los pasos en una imagen:"
   ]
  },
  {
   "cell_type": "markdown",
   "metadata": {},
   "source": [
    "<img src=\"https://s3-api.us-geo.objectstorage.softlayer.net/cf-courses-data/CognitiveClass/PY0101EN/Chapter%204/Images/ReadWith.png\" width=\"500\" />"
   ]
  },
  {
   "cell_type": "markdown",
   "metadata": {},
   "source": [
    "No se tiene que leer el archivo completo, por ejemplo, podemos leer los primeros 4 caracteres poniendo 3 como parámetro en el método **.read()**:"
   ]
  },
  {
   "cell_type": "code",
   "execution_count": 47,
   "metadata": {},
   "outputs": [
    {
     "name": "stdout",
     "output_type": "stream",
     "text": [
      "This\n"
     ]
    }
   ],
   "source": [
    "# Lee los primeros cuatro caracteres\n",
    "\n",
    "with open(example1, \"r\") as file1:\n",
    "    print(file1.read(4))"
   ]
  },
  {
   "cell_type": "markdown",
   "metadata": {},
   "source": [
    "Una vez que el método <code>.read(4)</code> es llamado los primeros 4 caracteres son mostrados. Si llamamos al método otra vez, los próximos 4 caracteres se llamarán. La salida en el siguiente bloque de código mostrara el proceso con diferentes valores de entrada para el método <code>read()</code>:"
   ]
  },
  {
   "cell_type": "code",
   "execution_count": 48,
   "metadata": {},
   "outputs": [
    {
     "name": "stdout",
     "output_type": "stream",
     "text": [
      "This\n",
      " is \n",
      "line 1 \n",
      "\n",
      "This is line 2\n"
     ]
    }
   ],
   "source": [
    "# Lee cierta cantidad de caracteres\n",
    "\n",
    "with open(example1, \"r\") as file1:\n",
    "    print(file1.read(4))\n",
    "    print(file1.read(4))\n",
    "    print(file1.read(7))\n",
    "    print(file1.read(15))"
   ]
  },
  {
   "cell_type": "markdown",
   "metadata": {},
   "source": [
    "El proceso se muestra en la imagen de abajo, cada color representa la parte leída del archivo después de llamar al método <code>read()</code>:"
   ]
  },
  {
   "cell_type": "markdown",
   "metadata": {},
   "source": [
    "<img src=\"https://s3-api.us-geo.objectstorage.softlayer.net/cf-courses-data/CognitiveClass/PY0101EN/Chapter%204/Images/ReadChar.png\" width=\"500\" />"
   ]
  },
  {
   "cell_type": "markdown",
   "metadata": {},
   "source": [
    "Aquí se muestra un ejemplo usando el mismo archivo, pero esta vez se lee 16, 5 y después 9 caracteres a la vez."
   ]
  },
  {
   "cell_type": "code",
   "execution_count": 49,
   "metadata": {},
   "outputs": [
    {
     "name": "stdout",
     "output_type": "stream",
     "text": [
      "This is line 1 \n",
      "\n",
      "This \n",
      "is line 2\n"
     ]
    }
   ],
   "source": [
    "# Lee cierta cantidad de caracteres\n",
    "\n",
    "with open(example1, \"r\") as file1:\n",
    "    print(file1.read(16))\n",
    "    print(file1.read(5))\n",
    "    print(file1.read(9))"
   ]
  },
  {
   "cell_type": "markdown",
   "metadata": {},
   "source": [
    "También podemos leer una línea del archivo a la vez usando el método <code>readline()</code>:"
   ]
  },
  {
   "cell_type": "code",
   "execution_count": 50,
   "metadata": {},
   "outputs": [
    {
     "name": "stdout",
     "output_type": "stream",
     "text": [
      "first line: This is line 1 \n",
      "\n"
     ]
    }
   ],
   "source": [
    "# Lee una línea\n",
    "\n",
    "with open(example1, \"r\") as file1:\n",
    "    print(\"first line: \" + file1.readline())"
   ]
  },
  {
   "cell_type": "markdown",
   "metadata": {},
   "source": [
    "Podemos usar un bucle para iterar a través de cada línea:"
   ]
  },
  {
   "cell_type": "code",
   "execution_count": 51,
   "metadata": {},
   "outputs": [
    {
     "name": "stdout",
     "output_type": "stream",
     "text": [
      "Iteration 0 :  This is line 1 \n",
      "\n",
      "Iteration 1 :  This is line 2\n",
      "\n",
      "Iteration 2 :  This is line 3\n"
     ]
    }
   ],
   "source": [
    "# Iterar a través de una línea:\n",
    "\n",
    "with open(example1,\"r\") as file1:\n",
    "        i = 0;\n",
    "        for line in file1:\n",
    "            print(\"Iteration\", str(i), \": \", line)\n",
    "            i = i + 1;"
   ]
  },
  {
   "cell_type": "markdown",
   "metadata": {},
   "source": [
    "Podemos usar el método <code>readlines()</code> para guardar el texto del archivo en una linea:"
   ]
  },
  {
   "cell_type": "code",
   "execution_count": 52,
   "metadata": {},
   "outputs": [],
   "source": [
    "# Leer todas las líneas y guardarlas como una lista\n",
    "\n",
    "with open(example1, \"r\") as file1:\n",
    "    FileasList = file1.readlines()"
   ]
  },
  {
   "cell_type": "markdown",
   "metadata": {},
   "source": [
    "Cada elemento de la lista corresponde a una línea de texto:"
   ]
  },
  {
   "cell_type": "code",
   "execution_count": 53,
   "metadata": {},
   "outputs": [
    {
     "data": {
      "text/plain": [
       "'This is line 1 \\n'"
      ]
     },
     "execution_count": 53,
     "metadata": {},
     "output_type": "execute_result"
    }
   ],
   "source": [
    "# Imprimir la primea línea\n",
    "\n",
    "FileasList[0]"
   ]
  },
  {
   "cell_type": "code",
   "execution_count": 54,
   "metadata": {},
   "outputs": [
    {
     "data": {
      "text/plain": [
       "'This is line 2\\n'"
      ]
     },
     "execution_count": 54,
     "metadata": {},
     "output_type": "execute_result"
    }
   ],
   "source": [
    "# Imprimir la segunda línea\n",
    "\n",
    "FileasList[1]"
   ]
  },
  {
   "cell_type": "code",
   "execution_count": 55,
   "metadata": {},
   "outputs": [
    {
     "data": {
      "text/plain": [
       "'This is line 3'"
      ]
     },
     "execution_count": 55,
     "metadata": {},
     "output_type": "execute_result"
    }
   ],
   "source": [
    "# Imprimir la tercera línea\n",
    "\n",
    "FileasList[2]"
   ]
  },
  {
   "cell_type": "markdown",
   "metadata": {},
   "source": [
    "<hr>\n",
    "<h2>¡El último ejercicio!</h2>\n",
    "<p>Felicidades, has completado tu primera lección y practica de laboratorio en Python. Sin embargo, hay algo mas que debes saber. La comunidad en Ciencia de Datos te alienta a compartir tu trabajo. La mejor forma de hacerlo es a través de GitHub. Al compartir tus cuadernos en GitHub, además de construir una reputación entre la comunidad de los científicos de datos, también te ayudará en el proceso de encontrar un trabajo. Incluso si este fuera tu primer material de trabajo, nunca es tarde para fomentar buenos hábitos. Por favor lee y analiza <a href=\"https://cognitiveclass.ai/blog/data-scientists-stand-out-by-sharing-your-notebooks/\" target=\"_blank\">este artículo</a> para aprender a compartir tu trabajo.\n",
    "<hr>"
   ]
  },
  {
   "cell_type": "markdown",
   "metadata": {},
   "source": [
    "<div class=\"alert alert-block alert-info\" style=\"margin-top: 20px\">\n",
    "<h2>¡Obtén gratis IBM Watson Studio!</h2>\n",
    "    <p><a href=\"https://cocl.us/PY0101EN_edx_add_bbottom\"><img src=\"https://s3-api.us-geo.objectstorage.softlayer.net/cf-courses-data/CognitiveClass/PY0101EN/Ad/BottomAd.png\" width=\"750\" align=\"center\"></a></p>\n",
    "</div>"
   ]
  },
  {
   "cell_type": "markdown",
   "metadata": {},
   "source": [
    "<h3>Acerca de los Autores:</h3>  \n",
    "<p><a href=\"https://www.linkedin.com/in/joseph-s-50398b136/\" target=\"_blank\">Joseph Santarcangelo</a> es un Científico de Datos en IBM, además posee un doctorado en Ingeniería Eléctrica. Su trabajo de investigación se centra en el uso de Aprendizaje Automático (Machine Learning), Procesamiento de Señales y Visión Artificial para determinar el impacto de los videos en el proceso cognitivo. Joseph trabaja en IBM desde la terminación de su doctorado.</p>"
   ]
  },
  {
   "cell_type": "markdown",
   "metadata": {},
   "source": [
    "Otros colaboradores: <a href=\"www.linkedin.com/in/jiahui-mavis-zhou-a4537814a\">Mavis Zhou</a>"
   ]
  },
  {
   "cell_type": "markdown",
   "metadata": {},
   "source": [
    "<hr>"
   ]
  },
  {
   "cell_type": "markdown",
   "metadata": {},
   "source": [
    "<p>Copyright &copy; 2018 IBM Developer Skills Network. This notebook and its source code are released under the terms of the <a href=\"https://cognitiveclass.ai/mit-license/\">MIT License</a>.</p>"
   ]
  }
 ],
 "metadata": {
  "kernelspec": {
   "display_name": "Python 3",
   "language": "python",
   "name": "python3"
  },
  "language_info": {
   "codemirror_mode": {
    "name": "ipython",
    "version": 3
   },
   "file_extension": ".py",
   "mimetype": "text/x-python",
   "name": "python",
   "nbconvert_exporter": "python",
   "pygments_lexer": "ipython3",
   "version": "3.8.5"
  }
 },
 "nbformat": 4,
 "nbformat_minor": 2
}
